{
 "cells": [
  {
   "cell_type": "markdown",
   "id": "d47de8d8-0d4f-4681-a294-7e4edface70b",
   "metadata": {},
   "source": [
    "# Import the libraries"
   ]
  },
  {
   "cell_type": "code",
   "execution_count": 409,
   "id": "0dd00992-b31b-45b5-a71b-1eae8a157eda",
   "metadata": {},
   "outputs": [],
   "source": [
    "import pandas as pd\n",
    "import numpy as np\n",
    "from sklearn.preprocessing import OneHotEncoder\n",
    "from sklearn.compose import make_column_transformer\n",
    "import datetime as dt\n",
    "from sklearn.pipeline import make_pipeline\n",
    "from sklearn.model_selection import train_test_split\n",
    "from sklearn import linear_model\n",
    "import matplotlib.pyplot as plt\n",
    "from sklearn import svm\n",
    "from sklearn.linear_model import SGDRegressor\n",
    "from sklearn.neighbors import KNeighborsRegressor\n",
    "from sklearn.gaussian_process import GaussianProcessRegressor\n",
    "from sklearn.gaussian_process.kernels import DotProduct, WhiteKernel\n",
    "from sklearn import tree\n",
    "from sklearn.ensemble import RandomForestRegressor\n",
    "from sklearn.ensemble import ExtraTreesRegressor\n",
    "from sklearn.tree import DecisionTreeRegressor\n",
    "from sklearn.ensemble import AdaBoostRegressor\n",
    "from sklearn.ensemble import GradientBoostingRegressor\n",
    "from keras.models import Sequential\n",
    "from keras.layers import Dense, SimpleRNN\n",
    "from keras.layers import LSTM\n",
    "from sklearn.neural_network import MLPRegressor\n",
    "from sklearn.ensemble import VotingRegressor\n",
    "from sklearn.neighbors import LocalOutlierFactor\n",
    "from sklearn.preprocessing import MinMaxScaler\n",
    "from sklearn.ensemble import BaggingRegressor\n",
    "from sklearn.model_selection import cross_val_score"
   ]
  },
  {
   "cell_type": "markdown",
   "id": "7ca0ba55-4f2e-4511-9ded-fc149548ef1b",
   "metadata": {},
   "source": [
    "# Read the data\n",
    "Please change the path if necessary"
   ]
  },
  {
   "cell_type": "code",
   "execution_count": 410,
   "id": "527cbcb1-7842-41f0-88ed-c854706132c4",
   "metadata": {},
   "outputs": [],
   "source": [
    "cad = pd.read_csv(r'C:\\Users\\hiten\\OneDrive\\Desktop\\clean_data\\cleaned-canada-covid.csv')"
   ]
  },
  {
   "cell_type": "markdown",
   "id": "b05fd159-f774-45ca-8541-ed896867fffa",
   "metadata": {},
   "source": [
    "Select the features and split the data"
   ]
  },
  {
   "cell_type": "code",
   "execution_count": 411,
   "id": "69bce7d2-5863-4acd-91b7-0231caf272ea",
   "metadata": {},
   "outputs": [],
   "source": [
    "X = cad.iloc[:, [2, 4, 5, 10]]\n",
    "y = cad.iloc[:, 3]\n",
    "X_train, X_test, y_train, y_test = train_test_split(X, y, test_size = 0.3, random_state = 42)"
   ]
  },
  {
   "cell_type": "code",
   "execution_count": 412,
   "id": "4c321906-07ce-4f3d-bc2c-1fc6e1870719",
   "metadata": {},
   "outputs": [],
   "source": [
    "scorestrain = []\n",
    "scorestest = []"
   ]
  },
  {
   "cell_type": "markdown",
   "id": "68b39451-26df-47c2-8b5b-18fc90e0e977",
   "metadata": {},
   "source": [
    "# Make predictions using various models"
   ]
  },
  {
   "cell_type": "markdown",
   "id": "0005e2cd-b0fe-4a19-8530-2f1ac5b9d106",
   "metadata": {},
   "source": [
    "## Lasso"
   ]
  },
  {
   "cell_type": "code",
   "execution_count": 413,
   "id": "5b251317-d062-4c7b-b62f-e9c10701b5d5",
   "metadata": {},
   "outputs": [],
   "source": [
    "model = make_pipeline(\n",
    "    MinMaxScaler(),\n",
    "    linear_model.Lasso(alpha=0.1)\n",
    ")\n",
    "model.fit(X_train, y_train)\n",
    "scorestrain.append(model.score(X_train, y_train))\n",
    "scorestest.append(model.score(X_test, y_test))"
   ]
  },
  {
   "cell_type": "markdown",
   "id": "866ffa6b-5a8c-45f3-86ea-c1f945e0babd",
   "metadata": {},
   "source": [
    "## SVR"
   ]
  },
  {
   "cell_type": "code",
   "execution_count": 414,
   "id": "c51139de-06ff-4896-a7ba-96dae5723868",
   "metadata": {},
   "outputs": [],
   "source": [
    "model = make_pipeline(\n",
    "    MinMaxScaler(),\n",
    "    svm.SVR()\n",
    ")\n",
    "model.fit(X_train, y_train)\n",
    "scorestrain.append(model.score(X_train, y_train))\n",
    "scorestest.append(model.score(X_test, y_test))"
   ]
  },
  {
   "cell_type": "markdown",
   "id": "76bb1e9d-aabf-41a2-9393-166ed25b9cb0",
   "metadata": {},
   "source": [
    "## SGD"
   ]
  },
  {
   "cell_type": "code",
   "execution_count": 415,
   "id": "e7e7944a-3a50-47c0-bedc-34c3607e68ee",
   "metadata": {},
   "outputs": [],
   "source": [
    "model = make_pipeline(\n",
    "    MinMaxScaler(),\n",
    "    SGDRegressor(max_iter=1000, tol=1e-3)\n",
    ")\n",
    "model.fit(X_train, y_train)\n",
    "scorestrain.append(model.score(X_train, y_train))\n",
    "scorestest.append(model.score(X_test, y_test))"
   ]
  },
  {
   "cell_type": "markdown",
   "id": "5b8b33ea-7920-48b6-aca9-4f6dc5583481",
   "metadata": {},
   "source": [
    "## KNeighbour"
   ]
  },
  {
   "cell_type": "code",
   "execution_count": 416,
   "id": "bb459a1d-3aec-48b9-afe8-a12f00d902d5",
   "metadata": {},
   "outputs": [],
   "source": [
    "model = make_pipeline(\n",
    "    MinMaxScaler(),\n",
    "    KNeighborsRegressor()\n",
    ")\n",
    "model.fit(X_train, y_train)\n",
    "scorestrain.append(model.score(X_train, y_train))\n",
    "scorestest.append(model.score(X_test, y_test))"
   ]
  },
  {
   "cell_type": "markdown",
   "id": "c81f19a1-1c9b-4a39-b303-9445ae8e85f6",
   "metadata": {},
   "source": [
    "## Gausian Process"
   ]
  },
  {
   "cell_type": "code",
   "execution_count": 417,
   "id": "b4ba2e9f-0a2a-424b-a74c-493efcc733d3",
   "metadata": {},
   "outputs": [],
   "source": [
    "model = make_pipeline(\n",
    "    MinMaxScaler(),\n",
    "    GaussianProcessRegressor()\n",
    ")\n",
    "model.fit(X_train, y_train)\n",
    "scorestrain.append(model.score(X_train, y_train))\n",
    "scorestest.append(model.score(X_test, y_test))"
   ]
  },
  {
   "cell_type": "markdown",
   "id": "62db2c4d-7c9e-4fdf-b448-ac5f8d8a459e",
   "metadata": {},
   "source": [
    "## Decision Tree"
   ]
  },
  {
   "cell_type": "code",
   "execution_count": 418,
   "id": "fdd6408b-741d-421c-8e0b-9e370d162046",
   "metadata": {},
   "outputs": [],
   "source": [
    "model = make_pipeline(\n",
    "    MinMaxScaler(),\n",
    "    tree.DecisionTreeRegressor()\n",
    ")\n",
    "model.fit(X_train, y_train)\n",
    "scorestrain.append(model.score(X_train, y_train))\n",
    "scorestest.append(model.score(X_test, y_test))"
   ]
  },
  {
   "cell_type": "markdown",
   "id": "3d8b4d44-af7f-4df8-9cfe-6a7288425010",
   "metadata": {},
   "source": [
    "## Ensemble Model(Bagging)"
   ]
  },
  {
   "cell_type": "code",
   "execution_count": 419,
   "id": "d5e1de87-87c6-40aa-a8ea-115811cfee70",
   "metadata": {},
   "outputs": [],
   "source": [
    "model = make_pipeline(\n",
    "    MinMaxScaler(),\n",
    "    BaggingRegressor(svm.SVR())\n",
    ")\n",
    "model.fit(X_train, y_train)\n",
    "scorestrain.append(model.score(X_train, y_train))\n",
    "scorestest.append(model.score(X_test, y_test))"
   ]
  },
  {
   "cell_type": "markdown",
   "id": "e62d59d0-e359-4a06-9df3-797476077e0b",
   "metadata": {},
   "source": [
    "## Ensemble Model(Random Forest)"
   ]
  },
  {
   "cell_type": "code",
   "execution_count": 420,
   "id": "e76eb5f9-c5e7-45b7-98a6-88430706034d",
   "metadata": {},
   "outputs": [],
   "source": [
    "model = make_pipeline(\n",
    "    MinMaxScaler(),\n",
    "    RandomForestRegressor()\n",
    ")\n",
    "model.fit(X_train, y_train)\n",
    "scorestrain.append(model.score(X_train, y_train))\n",
    "scorestest.append(model.score(X_test, y_test))"
   ]
  },
  {
   "cell_type": "markdown",
   "id": "1c17465c-df96-4b97-a5fa-9427bc03c7eb",
   "metadata": {},
   "source": [
    "## Extra Trees"
   ]
  },
  {
   "cell_type": "code",
   "execution_count": 421,
   "id": "56812d03-35f2-40d9-8c60-5867348fd77a",
   "metadata": {},
   "outputs": [],
   "source": [
    "model = make_pipeline(\n",
    "    MinMaxScaler(),\n",
    "    ExtraTreesRegressor()\n",
    ")\n",
    "model.fit(X_train, y_train)\n",
    "scorestrain.append(model.score(X_train, y_train))\n",
    "scorestest.append(model.score(X_test, y_test))"
   ]
  },
  {
   "cell_type": "markdown",
   "id": "73591588-615f-41ea-87c7-882d2d5d8ba9",
   "metadata": {},
   "source": [
    "## Ada Boost"
   ]
  },
  {
   "cell_type": "code",
   "execution_count": 422,
   "id": "7238a2ff-3255-4719-b1f4-b7eb548d0dce",
   "metadata": {},
   "outputs": [],
   "source": [
    "model = make_pipeline(\n",
    "    MinMaxScaler(),\n",
    "    AdaBoostRegressor(\n",
    "    DecisionTreeRegressor(), n_estimators=300\n",
    ")\n",
    ")\n",
    "model.fit(X_train, y_train)\n",
    "scorestrain.append(model.score(X_train, y_train))\n",
    "scorestest.append(model.score(X_test, y_test))"
   ]
  },
  {
   "cell_type": "markdown",
   "id": "060db8a5-9d20-4960-ba36-3e27d5c50655",
   "metadata": {},
   "source": [
    "## Gradient Boosting"
   ]
  },
  {
   "cell_type": "code",
   "execution_count": 423,
   "id": "2361529d-2861-41b3-ab97-a29874b4c736",
   "metadata": {},
   "outputs": [],
   "source": [
    "model = make_pipeline(\n",
    "    MinMaxScaler(),\n",
    "    GradientBoostingRegressor()\n",
    ")\n",
    "model.fit(X_train, y_train)\n",
    "scorestrain.append(model.score(X_train, y_train))\n",
    "scorestest.append(model.score(X_test, y_test))"
   ]
  },
  {
   "cell_type": "markdown",
   "id": "e99a425a-9058-4702-a1c8-78d77e65161f",
   "metadata": {},
   "source": [
    "## Neural Network(MLP)"
   ]
  },
  {
   "cell_type": "code",
   "execution_count": 424,
   "id": "f1669a5a-6041-4e62-9a03-71a21f4a9742",
   "metadata": {},
   "outputs": [
    {
     "name": "stderr",
     "output_type": "stream",
     "text": [
      "c:\\users\\hiten\\appdata\\local\\programs\\python\\python39\\lib\\site-packages\\sklearn\\neural_network\\_multilayer_perceptron.py:614: ConvergenceWarning: Stochastic Optimizer: Maximum iterations (200) reached and the optimization hasn't converged yet.\n",
      "  warnings.warn(\n"
     ]
    }
   ],
   "source": [
    "model = make_pipeline(\n",
    "    MinMaxScaler(),\n",
    "    MLPRegressor()\n",
    ")\n",
    "model.fit(X_train, y_train)\n",
    "scorestrain.append(model.score(X_train, y_train))\n",
    "scorestest.append(model.score(X_test, y_test))"
   ]
  },
  {
   "cell_type": "markdown",
   "id": "38d49695-5eb3-4901-9b09-b087e727263c",
   "metadata": {},
   "source": [
    "## Voting"
   ]
  },
  {
   "cell_type": "code",
   "execution_count": 425,
   "id": "5caee48f-9f28-416d-9da3-9221fdd6aa29",
   "metadata": {},
   "outputs": [],
   "source": [
    "model = make_pipeline(\n",
    "    MinMaxScaler(),\n",
    "    VotingRegressor([('gp', GaussianProcessRegressor()), ('gb', GradientBoostingRegressor()), ('kn', KNeighborsRegressor())])\n",
    ")\n",
    "model.fit(X_train, y_train)\n",
    "#print(model.score(X_test, y_test))\n",
    "scorestrain.append(model.score(X_train, y_train))\n",
    "scorestest.append(model.score(X_test, y_test))"
   ]
  },
  {
   "cell_type": "markdown",
   "id": "f6b8095e-7c8a-4b1a-88b0-8181480b2c3c",
   "metadata": {},
   "source": [
    "# Results"
   ]
  },
  {
   "cell_type": "code",
   "execution_count": 427,
   "id": "d7246f45-c624-4ceb-8ff8-d8cd9efe2499",
   "metadata": {},
   "outputs": [
    {
     "data": {
      "text/html": [
       "<div>\n",
       "<style scoped>\n",
       "    .dataframe tbody tr th:only-of-type {\n",
       "        vertical-align: middle;\n",
       "    }\n",
       "\n",
       "    .dataframe tbody tr th {\n",
       "        vertical-align: top;\n",
       "    }\n",
       "\n",
       "    .dataframe thead th {\n",
       "        text-align: right;\n",
       "    }\n",
       "</style>\n",
       "<table border=\"1\" class=\"dataframe\">\n",
       "  <thead>\n",
       "    <tr style=\"text-align: right;\">\n",
       "      <th></th>\n",
       "      <th>Algorithm</th>\n",
       "      <th>Train</th>\n",
       "      <th>Test</th>\n",
       "    </tr>\n",
       "  </thead>\n",
       "  <tbody>\n",
       "    <tr>\n",
       "      <th>0</th>\n",
       "      <td>Lasso</td>\n",
       "      <td>0.547093</td>\n",
       "      <td>0.668016</td>\n",
       "    </tr>\n",
       "    <tr>\n",
       "      <th>1</th>\n",
       "      <td>SVR</td>\n",
       "      <td>-0.105804</td>\n",
       "      <td>-0.087252</td>\n",
       "    </tr>\n",
       "    <tr>\n",
       "      <th>2</th>\n",
       "      <td>SGD</td>\n",
       "      <td>0.507794</td>\n",
       "      <td>0.616373</td>\n",
       "    </tr>\n",
       "    <tr>\n",
       "      <th>3</th>\n",
       "      <td>KNeighbour</td>\n",
       "      <td>0.906239</td>\n",
       "      <td>0.899622</td>\n",
       "    </tr>\n",
       "    <tr>\n",
       "      <th>4</th>\n",
       "      <td>Gausian Process</td>\n",
       "      <td>0.930246</td>\n",
       "      <td>0.894475</td>\n",
       "    </tr>\n",
       "    <tr>\n",
       "      <th>5</th>\n",
       "      <td>Decision Tree</td>\n",
       "      <td>1.000000</td>\n",
       "      <td>0.775734</td>\n",
       "    </tr>\n",
       "    <tr>\n",
       "      <th>6</th>\n",
       "      <td>Bagging</td>\n",
       "      <td>-0.073918</td>\n",
       "      <td>-0.056516</td>\n",
       "    </tr>\n",
       "    <tr>\n",
       "      <th>7</th>\n",
       "      <td>Random Forest</td>\n",
       "      <td>0.975829</td>\n",
       "      <td>0.884081</td>\n",
       "    </tr>\n",
       "    <tr>\n",
       "      <th>8</th>\n",
       "      <td>Extra Trees</td>\n",
       "      <td>1.000000</td>\n",
       "      <td>0.886729</td>\n",
       "    </tr>\n",
       "    <tr>\n",
       "      <th>9</th>\n",
       "      <td>AdaBoost</td>\n",
       "      <td>0.997318</td>\n",
       "      <td>0.835712</td>\n",
       "    </tr>\n",
       "    <tr>\n",
       "      <th>10</th>\n",
       "      <td>Gradient Boosting</td>\n",
       "      <td>0.938022</td>\n",
       "      <td>0.907564</td>\n",
       "    </tr>\n",
       "    <tr>\n",
       "      <th>11</th>\n",
       "      <td>MLP</td>\n",
       "      <td>-1.007289</td>\n",
       "      <td>-1.004050</td>\n",
       "    </tr>\n",
       "    <tr>\n",
       "      <th>12</th>\n",
       "      <td>Voting</td>\n",
       "      <td>0.934634</td>\n",
       "      <td>0.920371</td>\n",
       "    </tr>\n",
       "  </tbody>\n",
       "</table>\n",
       "</div>"
      ],
      "text/plain": [
       "            Algorithm     Train      Test\n",
       "0               Lasso  0.547093  0.668016\n",
       "1                 SVR -0.105804 -0.087252\n",
       "2                 SGD  0.507794  0.616373\n",
       "3          KNeighbour  0.906239  0.899622\n",
       "4     Gausian Process  0.930246  0.894475\n",
       "5       Decision Tree  1.000000  0.775734\n",
       "6             Bagging -0.073918 -0.056516\n",
       "7       Random Forest  0.975829  0.884081\n",
       "8         Extra Trees  1.000000  0.886729\n",
       "9            AdaBoost  0.997318  0.835712\n",
       "10  Gradient Boosting  0.938022  0.907564\n",
       "11                MLP -1.007289 -1.004050\n",
       "12             Voting  0.934634  0.920371"
      ]
     },
     "execution_count": 427,
     "metadata": {},
     "output_type": "execute_result"
    }
   ],
   "source": [
    "graph = [['Lasso', scorestrain[0], scorestest[0]], \n",
    "         ['SVR', scorestrain[1], scorestest[1]], \n",
    "         ['SGD', scorestrain[2], scorestest[2]], \n",
    "         ['KNeighbour', scorestrain[3], scorestest[3]],\n",
    "         ['Gausian Process', scorestrain[4], scorestest[4]],\n",
    "         ['Decision Tree', scorestrain[5], scorestest[5]],\n",
    "         ['Bagging', scorestrain[6], scorestest[6]],\n",
    "         ['Random Forest', scorestrain[7], scorestest[7]],\n",
    "         ['Extra Trees', scorestrain[8], scorestest[8]],\n",
    "         ['AdaBoost', scorestrain[9], scorestest[9]],\n",
    "         ['Gradient Boosting', scorestrain[10], scorestest[10]],\n",
    "         ['MLP', scorestrain[11], scorestest[11]],\n",
    "         ['Voting', scorestrain[12], scorestest[12]]]\n",
    "df = pd.DataFrame(graph, columns=['Algorithm', 'Train', 'Test'])\n",
    "df"
   ]
  },
  {
   "cell_type": "code",
   "execution_count": 429,
   "id": "e12e10ad-6687-4de5-922a-e10ba31570a9",
   "metadata": {},
   "outputs": [
    {
     "data": {
      "text/html": [
       "<div>\n",
       "<style scoped>\n",
       "    .dataframe tbody tr th:only-of-type {\n",
       "        vertical-align: middle;\n",
       "    }\n",
       "\n",
       "    .dataframe tbody tr th {\n",
       "        vertical-align: top;\n",
       "    }\n",
       "\n",
       "    .dataframe thead th {\n",
       "        text-align: right;\n",
       "    }\n",
       "</style>\n",
       "<table border=\"1\" class=\"dataframe\">\n",
       "  <thead>\n",
       "    <tr style=\"text-align: right;\">\n",
       "      <th></th>\n",
       "      <th>Algorithm</th>\n",
       "      <th>Train</th>\n",
       "      <th>Test</th>\n",
       "    </tr>\n",
       "  </thead>\n",
       "  <tbody>\n",
       "    <tr>\n",
       "      <th>12</th>\n",
       "      <td>Voting</td>\n",
       "      <td>0.934634</td>\n",
       "      <td>0.920371</td>\n",
       "    </tr>\n",
       "    <tr>\n",
       "      <th>10</th>\n",
       "      <td>Gradient Boosting</td>\n",
       "      <td>0.938022</td>\n",
       "      <td>0.907564</td>\n",
       "    </tr>\n",
       "    <tr>\n",
       "      <th>3</th>\n",
       "      <td>KNeighbour</td>\n",
       "      <td>0.906239</td>\n",
       "      <td>0.899622</td>\n",
       "    </tr>\n",
       "    <tr>\n",
       "      <th>4</th>\n",
       "      <td>Gausian Process</td>\n",
       "      <td>0.930246</td>\n",
       "      <td>0.894475</td>\n",
       "    </tr>\n",
       "    <tr>\n",
       "      <th>8</th>\n",
       "      <td>Extra Trees</td>\n",
       "      <td>1.000000</td>\n",
       "      <td>0.886729</td>\n",
       "    </tr>\n",
       "    <tr>\n",
       "      <th>7</th>\n",
       "      <td>Random Forest</td>\n",
       "      <td>0.975829</td>\n",
       "      <td>0.884081</td>\n",
       "    </tr>\n",
       "    <tr>\n",
       "      <th>9</th>\n",
       "      <td>AdaBoost</td>\n",
       "      <td>0.997318</td>\n",
       "      <td>0.835712</td>\n",
       "    </tr>\n",
       "    <tr>\n",
       "      <th>5</th>\n",
       "      <td>Decision Tree</td>\n",
       "      <td>1.000000</td>\n",
       "      <td>0.775734</td>\n",
       "    </tr>\n",
       "    <tr>\n",
       "      <th>0</th>\n",
       "      <td>Lasso</td>\n",
       "      <td>0.547093</td>\n",
       "      <td>0.668016</td>\n",
       "    </tr>\n",
       "    <tr>\n",
       "      <th>2</th>\n",
       "      <td>SGD</td>\n",
       "      <td>0.507794</td>\n",
       "      <td>0.616373</td>\n",
       "    </tr>\n",
       "    <tr>\n",
       "      <th>6</th>\n",
       "      <td>Bagging</td>\n",
       "      <td>-0.073918</td>\n",
       "      <td>-0.056516</td>\n",
       "    </tr>\n",
       "    <tr>\n",
       "      <th>1</th>\n",
       "      <td>SVR</td>\n",
       "      <td>-0.105804</td>\n",
       "      <td>-0.087252</td>\n",
       "    </tr>\n",
       "    <tr>\n",
       "      <th>11</th>\n",
       "      <td>MLP</td>\n",
       "      <td>-1.007289</td>\n",
       "      <td>-1.004050</td>\n",
       "    </tr>\n",
       "  </tbody>\n",
       "</table>\n",
       "</div>"
      ],
      "text/plain": [
       "            Algorithm     Train      Test\n",
       "12             Voting  0.934634  0.920371\n",
       "10  Gradient Boosting  0.938022  0.907564\n",
       "3          KNeighbour  0.906239  0.899622\n",
       "4     Gausian Process  0.930246  0.894475\n",
       "8         Extra Trees  1.000000  0.886729\n",
       "7       Random Forest  0.975829  0.884081\n",
       "9            AdaBoost  0.997318  0.835712\n",
       "5       Decision Tree  1.000000  0.775734\n",
       "0               Lasso  0.547093  0.668016\n",
       "2                 SGD  0.507794  0.616373\n",
       "6             Bagging -0.073918 -0.056516\n",
       "1                 SVR -0.105804 -0.087252\n",
       "11                MLP -1.007289 -1.004050"
      ]
     },
     "execution_count": 429,
     "metadata": {},
     "output_type": "execute_result"
    }
   ],
   "source": [
    "df.sort_values(by=['Test'], ascending=False)"
   ]
  },
  {
   "cell_type": "code",
   "execution_count": null,
   "id": "14610a87-36bd-4c3b-8899-224e790cc498",
   "metadata": {},
   "outputs": [],
   "source": []
  }
 ],
 "metadata": {
  "kernelspec": {
   "display_name": "Python 3",
   "language": "python",
   "name": "python3"
  },
  "language_info": {
   "codemirror_mode": {
    "name": "ipython",
    "version": 3
   },
   "file_extension": ".py",
   "mimetype": "text/x-python",
   "name": "python",
   "nbconvert_exporter": "python",
   "pygments_lexer": "ipython3",
   "version": "3.9.5"
  }
 },
 "nbformat": 4,
 "nbformat_minor": 5
}
